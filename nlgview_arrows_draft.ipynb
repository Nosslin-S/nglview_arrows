{
 "cells": [
  {
   "cell_type": "code",
   "execution_count": 4,
   "metadata": {},
   "outputs": [],
   "source": [
    "from ase.build import molecule\n",
    "from ase.calculators.emt import EMT\n",
    "from ase.optimize import BFGS\n",
    "from ase.vibrations import Vibrations\n",
    "from ase.io.trajectory import Trajectory\n",
    "\n",
    "import nglview as nv\n",
    "\n",
    "import numpy as np\n",
    "import os\n",
    "\n",
    "from numpy.linalg import norm"
   ]
  },
  {
   "cell_type": "code",
   "execution_count": 5,
   "metadata": {},
   "outputs": [],
   "source": [
    "### Computing first trajectory for further vizualisation\n",
    "molecule_name = \"CO2\"\n",
    "atoms = molecule(molecule_name, calculator=EMT())\n",
    "folder=\"vibrations\"\n",
    "\n",
    "# Relax and get vibrational properties\n",
    "opt = BFGS(atoms, logfile=None)\n",
    "opt.run(fmax=0.001)\n",
    "\n",
    "vibname =os.path.join(folder,molecule_name)\n",
    "vib = Vibrations(atoms, name='test')\n",
    "vib.run()\n",
    "\n",
    "# Extract rotational motions\n",
    "ndofs=3*len(atoms)\n",
    "is_not_linear=int(not(len(atoms)==2 or atoms.get_angle(0,1,2)==0))\n",
    "nrotations=ndofs-5-is_not_linear \n",
    "energies=np.absolute(vib.get_energies())\n",
    "\n",
    "# Get the nrotations-largest energies, to eliminate translation and rotation energies\n",
    "idx = np.argpartition(energies, -nrotations)[-nrotations:]\n",
    "rot_energies=energies[idx]\n",
    "for i in idx:\n",
    "    vib.write_mode(n=i,nimages=60)"
   ]
  },
  {
   "cell_type": "code",
   "execution_count": 6,
   "metadata": {},
   "outputs": [
    {
     "data": {
      "application/vnd.jupyter.widget-view+json": {
       "model_id": "5d0109321e0145aa9cf83d793f073d8c",
       "version_major": 2,
       "version_minor": 0
      },
      "text/plain": [
       "NGLWidget(max_frame=59)"
      ]
     },
     "metadata": {},
     "output_type": "display_data"
    }
   ],
   "source": [
    "traj = Trajectory('test.0.traj')\n",
    "positions=[list(x) for x in traj[0].get_positions()]\n",
    "directions=vib.get_mode(n=0).T\n",
    "directions[(directions>-1e-4)&(directions<1e-4)]=0.\n",
    "directions=directions/norm(directions,axis=0)\n",
    "directions=directions.T\n",
    "\n",
    "\n",
    "view = nv.show_asetraj(traj,delay=10) #gui=True\n",
    "view._js(f'''\n",
    "var shape = new NGL.Shape(\"my_shape\")\n",
    "let tab=[];\n",
    "let positions={positions};\n",
    "for (let i=0; i<3;i++){{\n",
    "  var arrowBuffer = new NGL.ArrowBuffer({{\n",
    "  position1: new Float32Array(positions[i]),\n",
    "  position2: new Float32Array(positions[i]),\n",
    "  color: new Float32Array([ 0, 1, 0 ]),\n",
    "  radius: new Float32Array([ 0.1 ]),\n",
    "}})\n",
    "shape.addBuffer(arrowBuffer)\n",
    "globalThis.arrowBuffer = arrowBuffer;\n",
    "tab.push(arrowBuffer);}}\n",
    "\n",
    "globalThis.tab=tab;\n",
    "var shapeComp = this.stage.addComponentFromObject(shape)\n",
    "\n",
    "\n",
    "shapeComp.addRepresentation(\"buffer\")\n",
    "shapeComp.autoView()\n",
    "''')\n",
    "\n",
    "sinus=np.sin(np.arange(0,60)/15*np.pi/2)\n",
    "def on_frame_change(change):\n",
    "    frame = change['new']\n",
    "    positions=traj[frame].get_positions()\n",
    "    positions2=positions+directions*sinus[frame]*2\n",
    "    positions=[list(x) for x in positions]\n",
    "    positions2=[list(x) for x in positions2]\n",
    "    view._js(f'''\n",
    "    let positions={positions};\n",
    "    let positions2={positions2};\n",
    "    for(let i =0; i<3; i++){{\n",
    "      globalThis.tab[i].setAttributes({{\n",
    "        position1: new Float32Array(positions[i]),\n",
    "        position2: new Float32Array(positions2[i])\n",
    "      }})}}\n",
    "    \n",
    "    this.stage.viewer.requestRender()\n",
    "    ''')\n",
    "view.observe(on_frame_change, names=['frame'])\n",
    "view.parameters = dict(\n",
    "        clipDist=-100\n",
    "    )\n",
    "view.player.parameters=dict(delay=50)\n",
    "view"
   ]
  }
 ],
 "metadata": {
  "interpreter": {
   "hash": "97ae724bfa85b9b34df7982b8bb8c7216f435b92902d749e4263f71162bea840"
  },
  "kernelspec": {
   "display_name": "Python 3.8.10 ('base')",
   "language": "python",
   "name": "python3"
  },
  "language_info": {
   "codemirror_mode": {
    "name": "ipython",
    "version": 3
   },
   "file_extension": ".py",
   "mimetype": "text/x-python",
   "name": "python",
   "nbconvert_exporter": "python",
   "pygments_lexer": "ipython3",
   "version": "3.8.10"
  },
  "orig_nbformat": 4
 },
 "nbformat": 4,
 "nbformat_minor": 2
}
