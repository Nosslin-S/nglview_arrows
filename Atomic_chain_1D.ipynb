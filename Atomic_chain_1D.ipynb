{
 "cells": [
  {
   "cell_type": "code",
   "execution_count": 1,
   "metadata": {},
   "outputs": [
    {
     "data": {
      "application/vnd.jupyter.widget-view+json": {
       "model_id": "de33573b52d14da5b4e19bf9ab00f1e9",
       "version_major": 2,
       "version_minor": 0
      },
      "text/plain": []
     },
     "metadata": {},
     "output_type": "display_data"
    }
   ],
   "source": [
    "import matplotlib.pyplot as plt\n",
    "from matplotlib.animation import FuncAnimation\n",
    "import matplotlib\n",
    "%matplotlib widget\n",
    "matplotlib.rcParams['figure.autolayout']=True \n",
    "import numpy as np\n",
    "from functools import partial\n",
    "import ipywidgets as widgets\n",
    "from ipywidgets import HBox, VBox, Button, Layout, FloatSlider, Dropdown, Output\n",
    "from ipywidgets import TwoByTwoLayout\n",
    "from IPython.display import display, clear_output\n",
    "from ase import Atoms\n",
    "from sklearn.neighbors import KernelDensity\n",
    "\n",
    "from ase.lattice.cubic import FaceCenteredCubic\n",
    "from ase.md.langevin import Langevin\n",
    "from ase.io.trajectory import Trajectory\n",
    "from ase import units\n",
    "\n",
    "import nglview as nv\n",
    "\n",
    "import os"
   ]
  },
  {
   "cell_type": "code",
   "execution_count": 2,
   "metadata": {},
   "outputs": [],
   "source": [
    "def compute_positions(ka,t):\n",
    "    positions=0.5*np.cos(-w*t+np.arange(-10,11)*ka)+np.arange(-10,11)*2\n",
    "    return positions"
   ]
  },
  {
   "cell_type": "code",
   "execution_count": 3,
   "metadata": {},
   "outputs": [],
   "source": [
    "slider_ka=FloatSlider(value=0,min=-np.pi,max=np.pi,continuous_update=False,step=0.01)\n",
    "def ka_change(event):\n",
    "    global traj, view\n",
    "    traj=Trajectory('traj_test.traj','w') #Erase data\n",
    "    traj=Trajectory('traj_test.traj','a')\n",
    "    ka=slider_ka.value\n",
    "    for frames in np.linspace(0,100,100):\n",
    "        t=2*np.pi/100/w*frames\n",
    "        # t=frames\n",
    "        positions=compute_positions(ka,t)\n",
    "        test=[[x, 0, 0] for x in positions]\n",
    "        atoms=Atoms(21*'C', positions=test)\n",
    "        traj.write(atoms)\n",
    "\n",
    "    comp_ids=[]\n",
    "    for comp_id in view._ngl_component_ids:\n",
    "        comp_ids.append(comp_id)\n",
    "\n",
    "    traj_ = Trajectory(\"traj_test.traj\")\n",
    "\n",
    "    view.add_trajectory(traj_)\n",
    "\n",
    "    for comp_id in comp_ids:\n",
    "        view.remove_component(comp_id)\n",
    "\n",
    "    view.clear_representations()\n",
    "    view.add_representation('spacefill',source='#C',radius=0.5)\n",
    "    view.control.zoom(0.6)\n",
    "    view.center()\n",
    "    \n",
    "slider_ka.observe(ka_change)"
   ]
  },
  {
   "cell_type": "code",
   "execution_count": 4,
   "metadata": {},
   "outputs": [],
   "source": [
    "ka=np.pi\n",
    "traj=Trajectory('traj_test.traj','w') #Erase data\n",
    "traj=Trajectory('traj_test.traj','a')\n",
    "w=np.sqrt(4*1/1)*np.sin(np.abs(ka))\n",
    "for frames in np.linspace(0,100,100):\n",
    "    t=2*np.pi/100/w*frames\n",
    "    # t=frames\n",
    "    positions=compute_positions(ka,t)\n",
    "    test=[[x, 0, 0] for x in positions]\n",
    "    atoms=Atoms(21*'C', positions=test)\n",
    "    traj.write(atoms)\n",
    "\n",
    "traj_=Trajectory('traj_test.traj')\n",
    "view=nv.show_asetraj(traj_)\n",
    "view.clear_representations()\n",
    "view.add_representation('spacefill',source='#C',radius=0.5)\n",
    "view.player.parameters=dict(delay=20)\n",
    "view.control.zoom(0.6)\n",
    "view._remote_call(\"setSize\", target=\"Widget\", args=[\"500px\", \"300px\"])"
   ]
  },
  {
   "cell_type": "code",
   "execution_count": 5,
   "metadata": {},
   "outputs": [],
   "source": [
    "def update_ngl():\n",
    "    global traj, view, w, ka\n",
    "    traj=Trajectory('traj_test.traj','w') #Erase data\n",
    "    traj=Trajectory('traj_test.traj','a')\n",
    "    w=np.sqrt(4*1/1)*np.sin(np.abs(ka)/2)\n",
    "    for frames in np.linspace(0,100,100):\n",
    "        t=2*np.pi/100/w*frames\n",
    "        # t=frames\n",
    "        positions=compute_positions(ka,t)\n",
    "        test=[[x, 0, 0] for x in positions]\n",
    "        atoms=Atoms(21*'C', positions=test)\n",
    "        traj.write(atoms)\n",
    "\n",
    "    comp_ids=[]\n",
    "    for comp_id in view._ngl_component_ids:\n",
    "        comp_ids.append(comp_id)\n",
    "\n",
    "    traj_ = Trajectory(\"traj_test.traj\")\n",
    "\n",
    "    view.add_trajectory(traj_)\n",
    "\n",
    "    for comp_id in comp_ids:\n",
    "        view.remove_component(comp_id)\n",
    "\n",
    "    view.clear_representations()\n",
    "    view.add_representation('spacefill',source='#C',radius=0.5)\n",
    "    view.center()\n",
    "    view.control.zoom(0.6)\n",
    "    \n",
    "    view._remote_call(\"setSize\", target=\"Widget\", args=[\"450px\", \"300px\"])"
   ]
  },
  {
   "cell_type": "code",
   "execution_count": 7,
   "metadata": {},
   "outputs": [],
   "source": [
    "\n",
    "def onclick(event):\n",
    "    global point, ka\n",
    "    #Plot point on graph\n",
    "    ka=event.xdata\n",
    "    w=np.sqrt(4*1/1)*np.sin(np.abs(ka)/2)\n",
    "    point.set_data(ka,w)\n",
    "    update_ngl()\n",
    "    "
   ]
  },
  {
   "cell_type": "code",
   "execution_count": 8,
   "metadata": {},
   "outputs": [],
   "source": [
    "plt.ioff()\n",
    "px = 1/plt.rcParams['figure.dpi']\n",
    "fig, ax = plt.subplots(figsize=(500*px,300*px))\n",
    "\n",
    "fig.canvas.toolbar_visible = False\n",
    "fig.canvas.header_visible = False\n",
    "fig.canvas.footer_visible = False\n",
    "\n",
    "ka_=np.linspace(-np.pi,np.pi,101)\n",
    "w_=np.sqrt(4*1/1)*np.sin(np.abs(ka_)/2)\n",
    "ax.plot(ka_,w_,c='dodgerblue')\n",
    "point,=ax.plot([],[],'.',c='crimson',markersize=15)\n",
    "fig.canvas.mpl_connect('button_press_event', onclick);\n",
    "plt.ion();"
   ]
  },
  {
   "cell_type": "code",
   "execution_count": 9,
   "metadata": {},
   "outputs": [],
   "source": [
    "# VBox([fig.canvas,view],layout=Layout(align_items=\"center\"))"
   ]
  },
  {
   "cell_type": "code",
   "execution_count": 10,
   "metadata": {},
   "outputs": [
    {
     "data": {
      "text/plain": [
       "<matplotlib.pyplot._IonContext at 0x22f7c979760>"
      ]
     },
     "execution_count": 10,
     "metadata": {},
     "output_type": "execute_result"
    }
   ],
   "source": [
    "plt.ioff()\n",
    "fig2, ax2 = plt.subplots(figsize=(500*px,100*px))\n",
    "\n",
    "fig2.canvas.toolbar_visible = False\n",
    "fig2.canvas.header_visible = False\n",
    "fig2.canvas.footer_visible = False\n",
    "fig3, ax3 = plt.subplots(figsize=(500*px,100*px))\n",
    "ax2.axis('off')\n",
    "fig3.canvas.toolbar_visible = False\n",
    "fig3.canvas.header_visible = False\n",
    "fig3.canvas.footer_visible = False\n",
    "ax3.axis('off')\n",
    "plt.ion()"
   ]
  },
  {
   "cell_type": "code",
   "execution_count": 13,
   "metadata": {},
   "outputs": [
    {
     "data": {
      "application/vnd.jupyter.widget-view+json": {
       "model_id": "23cbb3610f6c4a39a4458bd214af27ce",
       "version_major": 2,
       "version_minor": 0
      },
      "text/plain": [
       "TwoByTwoLayout(children=(Canvas(footer_visible=False, header_visible=False, layout=Layout(grid_area='top-left'…"
      ]
     },
     "metadata": {},
     "output_type": "display_data"
    }
   ],
   "source": [
    "TwoByTwoLayout(top_left=fig.canvas,\n",
    "               top_right=view,\n",
    "               bottom_left=fig2.canvas,\n",
    "               bottom_right=fig3.canvas)"
   ]
  },
  {
   "cell_type": "code",
   "execution_count": 16,
   "metadata": {},
   "outputs": [],
   "source": [
    "view.download_image('atom_screenshot.png')"
   ]
  }
 ],
 "metadata": {
  "hide_input": false,
  "interpreter": {
   "hash": "97ae724bfa85b9b34df7982b8bb8c7216f435b92902d749e4263f71162bea840"
  },
  "kernelspec": {
   "display_name": "Python 3 (ipykernel)",
   "language": "python",
   "name": "python3"
  },
  "language_info": {
   "codemirror_mode": {
    "name": "ipython",
    "version": 3
   },
   "file_extension": ".py",
   "mimetype": "text/x-python",
   "name": "python",
   "nbconvert_exporter": "python",
   "pygments_lexer": "ipython3",
   "version": "3.8.10"
  }
 },
 "nbformat": 4,
 "nbformat_minor": 2
}
